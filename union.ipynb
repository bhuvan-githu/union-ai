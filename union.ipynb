{
 "cells": [
  {
   "cell_type": "code",
   "execution_count": 1,
   "id": "6130c249-2d63-4261-9e52-c47bfed15a90",
   "metadata": {},
   "outputs": [
    {
     "name": "stdin",
     "output_type": "stream",
     "text": [
      "Enter elements for set E (comma-separated):  1,2,3,7,8\n",
      "Enter elements for set N (comma-separated):  2,5,6,8,9\n"
     ]
    },
    {
     "name": "stdout",
     "output_type": "stream",
     "text": [
      "Union of E and N is {1, 2, 3, 5, 6, 7, 8, 9}\n",
      "Intersection of E and N is {8, 2}\n",
      "Difference of E and N is {1, 3, 7}\n",
      "Symmetric difference of E and N is {1, 3, 5, 6, 7, 9}\n"
     ]
    }
   ],
   "source": [
    "input_E = input(\"Enter elements for set E (comma-separated): \")\n",
    "input_N = input(\"Enter elements for set N (comma-separated): \")\n",
    "E = set(map(int, input_E.split(',')))\n",
    "N = set(map(int, input_N.split(',')))\n",
    "union_result = E | N\n",
    "intersection_result = E & N\n",
    "difference_result = E - N\n",
    "symmetric_difference_result = E ^ N\n",
    "print(f\"Union of E and N is {union_result}\")\n",
    "print(f\"Intersection of E and N is {intersection_result}\")\n",
    "print(f\"Difference of E and N is {difference_result}\")\n",
    "print(f\"Symmetric difference of E and N is {symmetric_difference_result}\")\n"
   ]
  },
  {
   "cell_type": "code",
   "execution_count": null,
   "id": "b109baad-34b7-409f-906d-2cb2232db67e",
   "metadata": {},
   "outputs": [],
   "source": []
  }
 ],
 "metadata": {
  "kernelspec": {
   "display_name": "Python 3 (ipykernel)",
   "language": "python",
   "name": "python3"
  },
  "language_info": {
   "codemirror_mode": {
    "name": "ipython",
    "version": 3
   },
   "file_extension": ".py",
   "mimetype": "text/x-python",
   "name": "python",
   "nbconvert_exporter": "python",
   "pygments_lexer": "ipython3",
   "version": "3.11.4"
  }
 },
 "nbformat": 4,
 "nbformat_minor": 5
}
